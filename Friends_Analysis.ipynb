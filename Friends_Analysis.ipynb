{
 "cells": [
  {
   "cell_type": "markdown",
   "metadata": {},
   "source": [
    "# Friends Analysis\n",
    "\n",
    "Team3 - Han Chen and Dylan Connor\n"
   ]
  },
  {
   "cell_type": "markdown",
   "metadata": {},
   "source": [
    "## Imports"
   ]
  },
  {
   "cell_type": "code",
   "execution_count": 1,
   "metadata": {},
   "outputs": [],
   "source": [
    "import pandas as pd\n",
    "import numpy as np\n",
    "import matplotlib as plt\n",
    "import seaborn as sns\n"
   ]
  },
  {
   "cell_type": "markdown",
   "metadata": {},
   "source": [
    "## Data Wrangling"
   ]
  },
  {
   "cell_type": "code",
   "execution_count": 2,
   "metadata": {},
   "outputs": [],
   "source": [
    "#Read user data\n",
    "user = pd.read_csv(\"input_data/yelp_user.csv\", usecols = ['user_id','friends','review_count'])"
   ]
  },
  {
   "cell_type": "code",
   "execution_count": 3,
   "metadata": {},
   "outputs": [
    {
     "data": {
      "text/html": [
       "<div>\n",
       "<style scoped>\n",
       "    .dataframe tbody tr th:only-of-type {\n",
       "        vertical-align: middle;\n",
       "    }\n",
       "\n",
       "    .dataframe tbody tr th {\n",
       "        vertical-align: top;\n",
       "    }\n",
       "\n",
       "    .dataframe thead th {\n",
       "        text-align: right;\n",
       "    }\n",
       "</style>\n",
       "<table border=\"1\" class=\"dataframe\">\n",
       "  <thead>\n",
       "    <tr style=\"text-align: right;\">\n",
       "      <th></th>\n",
       "      <th>user_id</th>\n",
       "      <th>review_count</th>\n",
       "      <th>friends</th>\n",
       "    </tr>\n",
       "  </thead>\n",
       "  <tbody>\n",
       "    <tr>\n",
       "      <th>0</th>\n",
       "      <td>JJ-aSuM4pCFPdkfoZ34q0Q</td>\n",
       "      <td>10</td>\n",
       "      <td>0njfJmB-7n84DlIgUByCNw, rFn3Xe3RqHxRSxWOU19Gpg...</td>\n",
       "    </tr>\n",
       "    <tr>\n",
       "      <th>1</th>\n",
       "      <td>uUzsFQn_6cXDh6rPNGbIFA</td>\n",
       "      <td>1</td>\n",
       "      <td>None</td>\n",
       "    </tr>\n",
       "    <tr>\n",
       "      <th>2</th>\n",
       "      <td>mBneaEEH5EMyxaVyqS-72A</td>\n",
       "      <td>6</td>\n",
       "      <td>None</td>\n",
       "    </tr>\n",
       "    <tr>\n",
       "      <th>3</th>\n",
       "      <td>W5mJGs-dcDWRGEhAzUYtoA</td>\n",
       "      <td>3</td>\n",
       "      <td>None</td>\n",
       "    </tr>\n",
       "    <tr>\n",
       "      <th>4</th>\n",
       "      <td>4E8--zUZO1Rr1IBK4_83fg</td>\n",
       "      <td>11</td>\n",
       "      <td>None</td>\n",
       "    </tr>\n",
       "  </tbody>\n",
       "</table>\n",
       "</div>"
      ],
      "text/plain": [
       "                  user_id  review_count  \\\n",
       "0  JJ-aSuM4pCFPdkfoZ34q0Q            10   \n",
       "1  uUzsFQn_6cXDh6rPNGbIFA             1   \n",
       "2  mBneaEEH5EMyxaVyqS-72A             6   \n",
       "3  W5mJGs-dcDWRGEhAzUYtoA             3   \n",
       "4  4E8--zUZO1Rr1IBK4_83fg            11   \n",
       "\n",
       "                                             friends  \n",
       "0  0njfJmB-7n84DlIgUByCNw, rFn3Xe3RqHxRSxWOU19Gpg...  \n",
       "1                                               None  \n",
       "2                                               None  \n",
       "3                                               None  \n",
       "4                                               None  "
      ]
     },
     "execution_count": 3,
     "metadata": {},
     "output_type": "execute_result"
    }
   ],
   "source": [
    "#View user data\n",
    "user.head()"
   ]
  },
  {
   "cell_type": "code",
   "execution_count": 4,
   "metadata": {},
   "outputs": [],
   "source": [
    "#Limit to people with friends\n",
    "user = user.loc[user['friends']!=\"None\"]"
   ]
  },
  {
   "cell_type": "code",
   "execution_count": 5,
   "metadata": {},
   "outputs": [
    {
     "data": {
      "text/plain": [
       "(760007, 3)"
      ]
     },
     "execution_count": 5,
     "metadata": {},
     "output_type": "execute_result"
    }
   ],
   "source": [
    "#See user shape\n",
    "user.shape"
   ]
  },
  {
   "cell_type": "code",
   "execution_count": 6,
   "metadata": {},
   "outputs": [
    {
     "data": {
      "text/html": [
       "<div>\n",
       "<style scoped>\n",
       "    .dataframe tbody tr th:only-of-type {\n",
       "        vertical-align: middle;\n",
       "    }\n",
       "\n",
       "    .dataframe tbody tr th {\n",
       "        vertical-align: top;\n",
       "    }\n",
       "\n",
       "    .dataframe thead th {\n",
       "        text-align: right;\n",
       "    }\n",
       "</style>\n",
       "<table border=\"1\" class=\"dataframe\">\n",
       "  <thead>\n",
       "    <tr style=\"text-align: right;\">\n",
       "      <th></th>\n",
       "      <th>user_id</th>\n",
       "      <th>review_count</th>\n",
       "      <th>friends</th>\n",
       "    </tr>\n",
       "  </thead>\n",
       "  <tbody>\n",
       "    <tr>\n",
       "      <th>0</th>\n",
       "      <td>JJ-aSuM4pCFPdkfoZ34q0Q</td>\n",
       "      <td>10</td>\n",
       "      <td>0njfJmB-7n84DlIgUByCNw, rFn3Xe3RqHxRSxWOU19Gpg...</td>\n",
       "    </tr>\n",
       "    <tr>\n",
       "      <th>17</th>\n",
       "      <td>h5ERTYn2vQ1QbjTZvfWPaA</td>\n",
       "      <td>3</td>\n",
       "      <td>jYiZnueCr7gVq9T34xoa7g, yFLXGdY6rpHt7hRiwEFMag...</td>\n",
       "    </tr>\n",
       "    <tr>\n",
       "      <th>18</th>\n",
       "      <td>jYnkJR3T8yCERXywoVhWYA</td>\n",
       "      <td>48</td>\n",
       "      <td>hkXekeW_Jj6mIy8r8N7r1Q, dQDpV-VUtwYGqHznuRV-yw...</td>\n",
       "    </tr>\n",
       "    <tr>\n",
       "      <th>44</th>\n",
       "      <td>fV8Yr0c5tFQTQ2SRRJHXHw</td>\n",
       "      <td>50</td>\n",
       "      <td>HDb4fBWIAQ-foS8qLJty9w, x0hBZsmBTYxhjjx0MShz1A...</td>\n",
       "    </tr>\n",
       "    <tr>\n",
       "      <th>74</th>\n",
       "      <td>aw973Pm1nrTbRjP4zY9B9g</td>\n",
       "      <td>762</td>\n",
       "      <td>Cit5yho-DqotA0BnXHErTQ, bm2DqfP4P454FjEtCbZdkQ...</td>\n",
       "    </tr>\n",
       "  </tbody>\n",
       "</table>\n",
       "</div>"
      ],
      "text/plain": [
       "                   user_id  review_count  \\\n",
       "0   JJ-aSuM4pCFPdkfoZ34q0Q            10   \n",
       "17  h5ERTYn2vQ1QbjTZvfWPaA             3   \n",
       "18  jYnkJR3T8yCERXywoVhWYA            48   \n",
       "44  fV8Yr0c5tFQTQ2SRRJHXHw            50   \n",
       "74  aw973Pm1nrTbRjP4zY9B9g           762   \n",
       "\n",
       "                                              friends  \n",
       "0   0njfJmB-7n84DlIgUByCNw, rFn3Xe3RqHxRSxWOU19Gpg...  \n",
       "17  jYiZnueCr7gVq9T34xoa7g, yFLXGdY6rpHt7hRiwEFMag...  \n",
       "18  hkXekeW_Jj6mIy8r8N7r1Q, dQDpV-VUtwYGqHznuRV-yw...  \n",
       "44  HDb4fBWIAQ-foS8qLJty9w, x0hBZsmBTYxhjjx0MShz1A...  \n",
       "74  Cit5yho-DqotA0BnXHErTQ, bm2DqfP4P454FjEtCbZdkQ...  "
      ]
     },
     "execution_count": 6,
     "metadata": {},
     "output_type": "execute_result"
    }
   ],
   "source": [
    "user.head()"
   ]
  },
  {
   "cell_type": "code",
   "execution_count": 7,
   "metadata": {},
   "outputs": [],
   "source": [
    "#Read in review data\n",
    "reviews = pd.read_csv(\"input_data/yelp_review.csv\", usecols = ['user_id','business_id','stars', 'date'])"
   ]
  },
  {
   "cell_type": "code",
   "execution_count": 8,
   "metadata": {},
   "outputs": [
    {
     "data": {
      "text/html": [
       "<div>\n",
       "<style scoped>\n",
       "    .dataframe tbody tr th:only-of-type {\n",
       "        vertical-align: middle;\n",
       "    }\n",
       "\n",
       "    .dataframe tbody tr th {\n",
       "        vertical-align: top;\n",
       "    }\n",
       "\n",
       "    .dataframe thead th {\n",
       "        text-align: right;\n",
       "    }\n",
       "</style>\n",
       "<table border=\"1\" class=\"dataframe\">\n",
       "  <thead>\n",
       "    <tr style=\"text-align: right;\">\n",
       "      <th></th>\n",
       "      <th>user_id</th>\n",
       "      <th>business_id</th>\n",
       "      <th>stars</th>\n",
       "      <th>date</th>\n",
       "    </tr>\n",
       "  </thead>\n",
       "  <tbody>\n",
       "    <tr>\n",
       "      <th>0</th>\n",
       "      <td>bv2nCi5Qv5vroFiqKGopiw</td>\n",
       "      <td>AEx2SYEUJmTxVVB18LlCwA</td>\n",
       "      <td>5</td>\n",
       "      <td>2016-05-28</td>\n",
       "    </tr>\n",
       "    <tr>\n",
       "      <th>1</th>\n",
       "      <td>bv2nCi5Qv5vroFiqKGopiw</td>\n",
       "      <td>VR6GpWIda3SfvPC-lg9H3w</td>\n",
       "      <td>5</td>\n",
       "      <td>2016-05-28</td>\n",
       "    </tr>\n",
       "    <tr>\n",
       "      <th>2</th>\n",
       "      <td>bv2nCi5Qv5vroFiqKGopiw</td>\n",
       "      <td>CKC0-MOWMqoeWf6s-szl8g</td>\n",
       "      <td>5</td>\n",
       "      <td>2016-05-28</td>\n",
       "    </tr>\n",
       "    <tr>\n",
       "      <th>3</th>\n",
       "      <td>bv2nCi5Qv5vroFiqKGopiw</td>\n",
       "      <td>ACFtxLv8pGrrxMm6EgjreA</td>\n",
       "      <td>4</td>\n",
       "      <td>2016-05-28</td>\n",
       "    </tr>\n",
       "    <tr>\n",
       "      <th>4</th>\n",
       "      <td>bv2nCi5Qv5vroFiqKGopiw</td>\n",
       "      <td>s2I_Ni76bjJNK9yG60iD-Q</td>\n",
       "      <td>4</td>\n",
       "      <td>2016-05-28</td>\n",
       "    </tr>\n",
       "  </tbody>\n",
       "</table>\n",
       "</div>"
      ],
      "text/plain": [
       "                  user_id             business_id  stars        date\n",
       "0  bv2nCi5Qv5vroFiqKGopiw  AEx2SYEUJmTxVVB18LlCwA      5  2016-05-28\n",
       "1  bv2nCi5Qv5vroFiqKGopiw  VR6GpWIda3SfvPC-lg9H3w      5  2016-05-28\n",
       "2  bv2nCi5Qv5vroFiqKGopiw  CKC0-MOWMqoeWf6s-szl8g      5  2016-05-28\n",
       "3  bv2nCi5Qv5vroFiqKGopiw  ACFtxLv8pGrrxMm6EgjreA      4  2016-05-28\n",
       "4  bv2nCi5Qv5vroFiqKGopiw  s2I_Ni76bjJNK9yG60iD-Q      4  2016-05-28"
      ]
     },
     "execution_count": 8,
     "metadata": {},
     "output_type": "execute_result"
    }
   ],
   "source": [
    "reviews.head()"
   ]
  },
  {
   "cell_type": "code",
   "execution_count": 9,
   "metadata": {},
   "outputs": [
    {
     "data": {
      "text/plain": [
       "(5261668, 4)"
      ]
     },
     "execution_count": 9,
     "metadata": {},
     "output_type": "execute_result"
    }
   ],
   "source": [
    "reviews.shape"
   ]
  },
  {
   "cell_type": "code",
   "execution_count": 10,
   "metadata": {},
   "outputs": [],
   "source": [
    "#Merge review and user data\n",
    "reviews = pd.merge(reviews, user)"
   ]
  },
  {
   "cell_type": "code",
   "execution_count": 11,
   "metadata": {},
   "outputs": [
    {
     "data": {
      "text/plain": [
       "(3927721, 6)"
      ]
     },
     "execution_count": 11,
     "metadata": {},
     "output_type": "execute_result"
    }
   ],
   "source": [
    "reviews.shape"
   ]
  },
  {
   "cell_type": "markdown",
   "metadata": {},
   "source": [
    "## Analysis"
   ]
  },
  {
   "cell_type": "code",
   "execution_count": 12,
   "metadata": {},
   "outputs": [],
   "source": [
    "#Create a friends dictionary which has each person as a key and all friends in a list as a value\n",
    "friends = {}\n",
    "for i,j in zip(user['user_id'].values,user['friends'].values):\n",
    "    friends[i] = j.split(\", \")"
   ]
  },
  {
   "cell_type": "code",
   "execution_count": 13,
   "metadata": {},
   "outputs": [],
   "source": [
    "#Create a review dictionary which has each person as a key and a dictionary of business with list of review and date as the value\n",
    "reviews_dict = {}\n",
    "for i,j,k,l in zip(reviews['user_id'].values,reviews['business_id'].values, reviews['stars'].values, reviews['date'].values):\n",
    "    if reviews_dict.get(i) is None:\n",
    "        reviews_dict[i] = {j : [k,l]}\n",
    "    else:\n",
    "        reviews_dict[i][j] = [k,l]"
   ]
  },
  {
   "cell_type": "code",
   "execution_count": 14,
   "metadata": {},
   "outputs": [
    {
     "data": {
      "text/plain": [
       "{'ACFtxLv8pGrrxMm6EgjreA': [4, '2016-05-28'],\n",
       " 'AEx2SYEUJmTxVVB18LlCwA': [5, '2016-05-28'],\n",
       " 'CKC0-MOWMqoeWf6s-szl8g': [5, '2016-05-28'],\n",
       " 'VR6GpWIda3SfvPC-lg9H3w': [5, '2016-05-28'],\n",
       " 's2I_Ni76bjJNK9yG60iD-Q': [4, '2016-05-28']}"
      ]
     },
     "execution_count": 14,
     "metadata": {},
     "output_type": "execute_result"
    }
   ],
   "source": [
    "reviews_dict.get('bv2nCi5Qv5vroFiqKGopiw')"
   ]
  },
  {
   "cell_type": "code",
   "execution_count": 15,
   "metadata": {},
   "outputs": [],
   "source": [
    "#Create a table that pulls together people that are friends and have rated the same business\n",
    "compares = []\n",
    "\n",
    "#For each person with reviews\n",
    "for review_key in reviews_dict.keys():\n",
    "    keys = reviews_dict[review_key].keys()\n",
    "    if keys is None: continue\n",
    "    \n",
    "    #For each review of the person\n",
    "    for rest_key in keys:\n",
    "        #friends.get(review_key)\n",
    "        if keys is None: continue\n",
    "        \n",
    "        #For each friend of that person\n",
    "        for k in friends.get(review_key):\n",
    "            \n",
    "            #Get the friend's reviews\n",
    "            friend_review = reviews_dict.get(k)\n",
    "            \n",
    "            #If friend has reviews\n",
    "            if friend_review != None:\n",
    "                \n",
    "                match = friend_review.get(rest_key)\n",
    "             \n",
    "                #If friend reviewed, then add a row to compares \n",
    "                if match != None:\n",
    "                    compares.append([review_key, rest_key, reviews_dict[review_key].get(rest_key), k, match]) "
   ]
  },
  {
   "cell_type": "code",
   "execution_count": 16,
   "metadata": {},
   "outputs": [
    {
     "data": {
      "text/plain": [
       "[['u0LXt3Uea_GidxRW1xcsfg',\n",
       "  '5r6-G9C4YLbC7Ziz57l3rQ',\n",
       "  [3, '2013-02-09'],\n",
       "  'Q9mA60HnY87C1TW5kjAZ6Q',\n",
       "  [3, '2012-08-30']],\n",
       " ['u0LXt3Uea_GidxRW1xcsfg',\n",
       "  'RtUvSWO_UZ8V3Wpj0n077w',\n",
       "  [3, '2012-12-03'],\n",
       "  'G-6X-llgA_qAxGxocykHzQ',\n",
       "  [3, '2017-02-09']],\n",
       " ['u0LXt3Uea_GidxRW1xcsfg',\n",
       "  'RtUvSWO_UZ8V3Wpj0n077w',\n",
       "  [3, '2012-12-03'],\n",
       "  'Q9mA60HnY87C1TW5kjAZ6Q',\n",
       "  [3, '2014-04-07']],\n",
       " ['u0LXt3Uea_GidxRW1xcsfg',\n",
       "  'RtUvSWO_UZ8V3Wpj0n077w',\n",
       "  [3, '2012-12-03'],\n",
       "  'l1YPTobYrKB0ZsCdZ0Qrtg',\n",
       "  [4, '2014-10-21']],\n",
       " ['u0LXt3Uea_GidxRW1xcsfg',\n",
       "  'PFPUMF38-lraKzLcTiz5gQ',\n",
       "  [3, '2010-09-15'],\n",
       "  'Q9mA60HnY87C1TW5kjAZ6Q',\n",
       "  [4, '2012-01-23']]]"
      ]
     },
     "execution_count": 16,
     "metadata": {},
     "output_type": "execute_result"
    }
   ],
   "source": [
    "compares[0:5]"
   ]
  },
  {
   "cell_type": "code",
   "execution_count": 17,
   "metadata": {},
   "outputs": [],
   "source": [
    "#Date difference function\n",
    "from datetime import datetime\n",
    "def date_diff(date_first, date_second):\n",
    "    date_first = datetime.strptime(date_first, \"%Y-%m-%d\")\n",
    "    date_second = datetime.strptime(date_second, \"%Y-%m-%d\")\n",
    "    return abs((date_second - date_first).days)"
   ]
  },
  {
   "cell_type": "code",
   "execution_count": 18,
   "metadata": {},
   "outputs": [],
   "source": [
    "#Get date differences for raters\n",
    "distances = [date_diff(i[2][1],i[4][1]) for i in compares]"
   ]
  },
  {
   "cell_type": "code",
   "execution_count": 30,
   "metadata": {},
   "outputs": [
    {
     "data": {
      "text/plain": [
       "19996"
      ]
     },
     "execution_count": 30,
     "metadata": {},
     "output_type": "execute_result"
    }
   ],
   "source": [
    "sum([1 for i in distances if i == 2])"
   ]
  },
  {
   "cell_type": "code",
   "execution_count": 31,
   "metadata": {},
   "outputs": [
    {
     "data": {
      "text/plain": [
       "Text(0.5,1,'Count of Friends Reviewing the Same Restaurant')"
      ]
     },
     "execution_count": 31,
     "metadata": {},
     "output_type": "execute_result"
    },
    {
     "data": {
      "image/png": "[encoded data removed]",
      "text/plain": [
       "<matplotlib.figure.Figure at 0x1f1ed80d7f0>"
      ]
     },
     "metadata": {},
     "output_type": "display_data"
    }
   ],
   "source": [
    "#Histogram of friend's ratings broken out into date difference buckets\n",
    "plt.style.use('ggplot')\n",
    "plt.rcParams.update({'font.size': 14})\n",
    "plt.pyplot.figure(figsize = (12,9))\n",
    "plt.pyplot.grid()\n",
    "plt.pyplot.xlabel(\"Days Between Friend Review\")\n",
    "plt.pyplot.ylabel(\"Count\")\n",
    "plt.pyplot.tick_params(axis='both', which='major', labelsize=13)\n",
    "plt.pyplot.tick_params(axis='both', which='minor', labelsize=13)\n",
    "plt.pyplot.hist([i for i in distances if (i < 365 and i >= 0)],bins = 30)\n",
    "plt.pyplot.title(\"Count of Friends Reviewing the Same Restaurant\")"
   ]
  },
  {
   "cell_type": "code",
   "execution_count": 20,
   "metadata": {},
   "outputs": [
    {
     "data": {
      "text/plain": [
       "Text(0.5,1,'Count of Friends Reviewing the Same Restaurant')"
      ]
     },
     "execution_count": 20,
     "metadata": {},
     "output_type": "execute_result"
    },
    {
     "data": {
      "image/png": "[encoded data removed]",
      "text/plain": [
       "<matplotlib.figure.Figure at 0x131f13f42b0>"
      ]
     },
     "metadata": {},
     "output_type": "display_data"
    }
   ],
   "source": [
    "#Histogram of friend's ratings broken out into date difference buckets (zoomed in)\n",
    "plt.style.use('ggplot')\n",
    "plt.rcParams.update({'font.size': 14})\n",
    "plt.pyplot.figure(figsize = (12,9))\n",
    "plt.pyplot.grid()\n",
    "plt.pyplot.xlabel(\"Days Between Friend Review\")\n",
    "plt.pyplot.ylabel(\"Count\")\n",
    "plt.pyplot.tick_params(axis='both', which='major', labelsize=13)\n",
    "plt.pyplot.tick_params(axis='both', which='minor', labelsize=13)\n",
    "plt.pyplot.hist([i for i in distances if (i < 31 and i > -1)],bins = 30)\n",
    "plt.pyplot.title(\"Count of Friends Reviewing the Same Restaurant\")"
   ]
  },
  {
   "cell_type": "code",
   "execution_count": 21,
   "metadata": {},
   "outputs": [],
   "source": [
    "#Get date differences and ratings difference for friend's ratings\n",
    "diff_ratings = [[abs(date_diff(i[2][1],i[4][1])),abs(i[2][0]-i[4][0])] for i in compares]"
   ]
  },
  {
   "cell_type": "code",
   "execution_count": 22,
   "metadata": {},
   "outputs": [],
   "source": [
    "#Make a dataframe\n",
    "diff_ratings = pd.DataFrame(diff_ratings, columns = ['days difference','ratings difference'])"
   ]
  },
  {
   "cell_type": "code",
   "execution_count": 35,
   "metadata": {},
   "outputs": [
    {
     "data": {
      "text/html": [
       "<div>\n",
       "<style scoped>\n",
       "    .dataframe tbody tr th:only-of-type {\n",
       "        vertical-align: middle;\n",
       "    }\n",
       "\n",
       "    .dataframe tbody tr th {\n",
       "        vertical-align: top;\n",
       "    }\n",
       "\n",
       "    .dataframe thead th {\n",
       "        text-align: right;\n",
       "    }\n",
       "</style>\n",
       "<table border=\"1\" class=\"dataframe\">\n",
       "  <thead>\n",
       "    <tr style=\"text-align: right;\">\n",
       "      <th></th>\n",
       "      <th>days difference</th>\n",
       "      <th>ratings difference</th>\n",
       "    </tr>\n",
       "  </thead>\n",
       "  <tbody>\n",
       "    <tr>\n",
       "      <th>0</th>\n",
       "      <td>163</td>\n",
       "      <td>0</td>\n",
       "    </tr>\n",
       "    <tr>\n",
       "      <th>1</th>\n",
       "      <td>1529</td>\n",
       "      <td>0</td>\n",
       "    </tr>\n",
       "    <tr>\n",
       "      <th>2</th>\n",
       "      <td>490</td>\n",
       "      <td>0</td>\n",
       "    </tr>\n",
       "    <tr>\n",
       "      <th>3</th>\n",
       "      <td>687</td>\n",
       "      <td>1</td>\n",
       "    </tr>\n",
       "    <tr>\n",
       "      <th>4</th>\n",
       "      <td>495</td>\n",
       "      <td>1</td>\n",
       "    </tr>\n",
       "  </tbody>\n",
       "</table>\n",
       "</div>"
      ],
      "text/plain": [
       "   days difference  ratings difference\n",
       "0              163                   0\n",
       "1             1529                   0\n",
       "2              490                   0\n",
       "3              687                   1\n",
       "4              495                   1"
      ]
     },
     "execution_count": 35,
     "metadata": {},
     "output_type": "execute_result"
    }
   ],
   "source": [
    "diff_ratings.head()"
   ]
  },
  {
   "cell_type": "markdown",
   "metadata": {},
   "source": [
    "<img src=\"Visualization/Friends histogram.png\">"
   ]
  },
  {
   "cell_type": "code",
   "execution_count": 67,
   "metadata": {},
   "outputs": [],
   "source": [
    "#Create a benchmark of reviews to compare to\n",
    "\n",
    "#Create a dictionary of all reviews that hold a dictionary of users reviews with date and time\n",
    "review_dictionary = {}\n",
    "for i,j,k in zip(reviews['business_id'].values, reviews['stars'].values, reviews['date'].values):\n",
    "    if review_dictionary.get(i) is None:\n",
    "        review_dictionary[i] = [[j,k]]\n",
    "    else:\n",
    "        review_dictionary[i].append([j,k])"
   ]
  },
  {
   "cell_type": "code",
   "execution_count": 68,
   "metadata": {},
   "outputs": [
    {
     "name": "stdout",
     "output_type": "stream",
     "text": [
      "AEx2SYEUJmTxVVB18LlCwA\n",
      "[[5, '2016-05-28'], [5, '2016-02-22'], [5, '2017-08-08'], [5, '2013-03-29'], [5, '2015-06-20'], [3, '2016-07-26'], [5, '2013-12-30'], [5, '2012-09-22'], [5, '2013-10-29'], [5, '2015-12-21'], [4, '2016-05-28'], [5, '2017-05-31'], [3, '2014-09-15'], [4, '2012-05-17'], [4, '2017-05-25'], [4, '2014-06-21'], [5, '2016-05-24'], [4, '2011-12-29'], [4, '2014-07-28'], [4, '2013-04-19'], [5, '2016-06-13'], [4, '2016-08-04'], [5, '2014-12-30'], [4, '2013-07-10'], [4, '2014-10-22'], [5, '2015-04-26'], [4, '2012-12-29'], [5, '2017-07-13'], [4, '2017-07-17'], [5, '2017-01-27'], [5, '2017-07-10'], [3, '2016-09-04'], [5, '2016-07-13'], [5, '2011-11-17'], [1, '2015-09-02'], [1, '2012-04-17'], [5, '2016-03-28'], [4, '2012-06-20'], [2, '2017-08-05'], [5, '2017-07-29'], [4, '2017-08-31'], [4, '2017-08-18'], [4, '2014-03-18'], [4, '2009-04-15'], [4, '2014-09-25'], [4, '2014-04-01'], [1, '2016-01-02'], [5, '2016-04-05'], [3, '2017-10-03'], [5, '2013-10-19'], [5, '2017-06-17'], [1, '2015-10-04'], [4, '2017-10-25'], [3, '2015-08-26'], [5, '2014-11-26'], [5, '2015-07-20'], [4, '2011-11-15'], [5, '2014-07-19'], [3, '2017-04-10'], [5, '2012-09-23'], [4, '2013-12-28'], [5, '2015-07-22'], [5, '2017-09-02'], [3, '2014-06-26'], [5, '2017-01-06'], [5, '2013-02-10'], [1, '2015-09-02'], [5, '2016-06-05'], [5, '2009-07-21'], [5, '2015-10-28'], [5, '2010-11-10'], [4, '2016-10-11'], [5, '2015-10-12']]\n",
      "VR6GpWIda3SfvPC-lg9H3w\n",
      "[[5, '2016-05-28'], [5, '2015-01-31'], [5, '2011-07-22'], [4, '2011-10-23'], [4, '2014-11-01'], [5, '2016-06-03'], [3, '2013-09-18'], [4, '2013-07-21'], [4, '2011-08-15'], [5, '2017-07-15'], [5, '2014-03-10'], [4, '2015-05-20'], [5, '2015-05-31'], [5, '2014-10-11'], [5, '2012-03-13'], [5, '2012-12-15'], [3, '2013-09-18'], [5, '2015-04-22'], [3, '2013-08-01'], [5, '2017-02-06'], [4, '2013-11-25'], [4, '2014-11-20'], [4, '2015-05-31'], [5, '2015-11-19'], [4, '2013-10-21'], [4, '2015-08-17'], [5, '2014-06-08'], [5, '2017-08-10'], [3, '2014-10-05'], [5, '2014-05-15'], [5, '2013-04-16'], [4, '2017-04-02'], [5, '2017-06-01'], [5, '2015-09-02'], [5, '2016-03-11'], [5, '2011-12-31'], [3, '2016-11-06'], [4, '2010-11-26'], [5, '2012-06-20'], [5, '2017-04-12']]\n",
      "CKC0-MOWMqoeWf6s-szl8g\n",
      "[[5, '2016-05-28'], [3, '2012-01-07'], [5, '2017-09-07'], [4, '2016-08-17'], [4, '2016-06-25'], [4, '2016-01-19'], [4, '2011-10-21'], [5, '2011-06-19'], [5, '2017-08-23'], [5, '2015-08-16'], [4, '2016-12-28'], [5, '2016-03-14'], [3, '2016-08-31'], [2, '2011-10-14'], [4, '2017-08-17'], [5, '2017-07-24'], [4, '2011-12-15'], [5, '2016-09-24'], [4, '2014-04-10'], [3, '2012-08-07'], [5, '2016-08-23'], [4, '2014-07-25'], [5, '2013-08-11'], [4, '2016-12-02'], [4, '2014-05-24'], [4, '2014-06-06'], [5, '2015-09-06'], [4, '2012-07-12'], [4, '2016-02-09'], [4, '2012-07-12'], [5, '2017-09-07'], [5, '2017-07-05'], [2, '2015-03-30'], [5, '2015-08-14'], [4, '2017-04-18'], [4, '2016-05-19'], [5, '2017-06-20'], [2, '2017-10-23'], [2, '2012-11-04'], [5, '2017-03-18'], [2, '2012-12-03'], [3, '2016-03-04'], [4, '2013-09-26'], [4, '2008-09-13'], [5, '2013-09-25'], [5, '2015-05-03'], [5, '2017-07-11'], [4, '2016-06-27'], [5, '2015-01-10']]\n"
     ]
    }
   ],
   "source": [
    "count = 0\n",
    "for i, j in review_dictionary.items():\n",
    "    if count > 2: break\n",
    "    print(i)\n",
    "    print(j)\n",
    "    count+=1"
   ]
  },
  {
   "cell_type": "code",
   "execution_count": 81,
   "metadata": {},
   "outputs": [
    {
     "ename": "KeyboardInterrupt",
     "evalue": "",
     "output_type": "error",
     "traceback": [
      "\u001b[1;31m---------------------------------------------------------------------------\u001b[0m",
      "\u001b[1;31mKeyboardInterrupt\u001b[0m                         Traceback (most recent call last)",
      "\u001b[1;32m~\\Anaconda3\\lib\\site-packages\\zmq\\backend\\cython\\checkrc.pxd\u001b[0m in \u001b[0;36mzmq.backend.cython.checkrc._check_rc\u001b[1;34m()\u001b[0m\n",
      "\u001b[1;31mKeyboardInterrupt\u001b[0m: "
     ]
    },
    {
     "name": "stderr",
     "output_type": "stream",
     "text": [
      "Exception ignored in: 'zmq.backend.cython.message.Frame.__dealloc__'\n",
      "Traceback (most recent call last):\n",
      "  File \"zmq/backend/cython/checkrc.pxd\", line 12, in zmq.backend.cython.checkrc._check_rc\n",
      "    PyErr_CheckSignals()\n",
      "KeyboardInterrupt\n"
     ]
    },
    {
     "ename": "MemoryError",
     "evalue": "",
     "output_type": "error",
     "traceback": [
      "\u001b[1;31m---------------------------------------------------------------------------\u001b[0m",
      "\u001b[1;31mMemoryError\u001b[0m                               Traceback (most recent call last)",
      "\u001b[1;32m<ipython-input-81-b040a4a9b5b1>\u001b[0m in \u001b[0;36m<module>\u001b[1;34m()\u001b[0m\n\u001b[0;32m      8\u001b[0m         \u001b[1;32mif\u001b[0m \u001b[0mcount\u001b[0m \u001b[1;33m!=\u001b[0m \u001b[0mlen\u001b[0m\u001b[1;33m(\u001b[0m\u001b[0mj\u001b[0m\u001b[1;33m)\u001b[0m\u001b[1;33m:\u001b[0m\u001b[1;33m\u001b[0m\u001b[0m\n\u001b[0;32m      9\u001b[0m             \u001b[1;32mfor\u001b[0m \u001b[0ml\u001b[0m \u001b[1;32min\u001b[0m \u001b[0mrange\u001b[0m\u001b[1;33m(\u001b[0m\u001b[0mcount\u001b[0m\u001b[1;33m+\u001b[0m\u001b[1;36m1\u001b[0m\u001b[1;33m,\u001b[0m \u001b[0mlen\u001b[0m\u001b[1;33m(\u001b[0m\u001b[0mj\u001b[0m\u001b[1;33m)\u001b[0m\u001b[1;33m)\u001b[0m\u001b[1;33m:\u001b[0m\u001b[1;33m\u001b[0m\u001b[0m\n\u001b[1;32m---> 10\u001b[1;33m                 \u001b[0mall_reviews_dist2\u001b[0m\u001b[1;33m.\u001b[0m\u001b[0mappend\u001b[0m\u001b[1;33m(\u001b[0m\u001b[1;33m[\u001b[0m\u001b[0mabs\u001b[0m\u001b[1;33m(\u001b[0m\u001b[0mk\u001b[0m\u001b[1;33m[\u001b[0m\u001b[1;36m0\u001b[0m\u001b[1;33m]\u001b[0m\u001b[1;33m-\u001b[0m\u001b[0mj\u001b[0m\u001b[1;33m[\u001b[0m\u001b[0ml\u001b[0m\u001b[1;33m]\u001b[0m\u001b[1;33m[\u001b[0m\u001b[1;36m0\u001b[0m\u001b[1;33m]\u001b[0m\u001b[1;33m)\u001b[0m\u001b[1;33m,\u001b[0m\u001b[0mdate_diff\u001b[0m\u001b[1;33m(\u001b[0m\u001b[0mk\u001b[0m\u001b[1;33m[\u001b[0m\u001b[1;36m1\u001b[0m\u001b[1;33m]\u001b[0m\u001b[1;33m,\u001b[0m \u001b[0mj\u001b[0m\u001b[1;33m[\u001b[0m\u001b[0ml\u001b[0m\u001b[1;33m]\u001b[0m\u001b[1;33m[\u001b[0m\u001b[1;36m1\u001b[0m\u001b[1;33m]\u001b[0m\u001b[1;33m)\u001b[0m\u001b[1;33m]\u001b[0m\u001b[1;33m)\u001b[0m\u001b[1;33m\u001b[0m\u001b[0m\n\u001b[0m\u001b[0;32m     11\u001b[0m             \u001b[0mcount\u001b[0m \u001b[1;33m+=\u001b[0m\u001b[1;36m1\u001b[0m\u001b[1;33m\u001b[0m\u001b[0m\n\u001b[0;32m     12\u001b[0m \u001b[1;33m\u001b[0m\u001b[0m\n",
      "\u001b[1;31mMemoryError\u001b[0m: "
     ]
    }
   ],
   "source": [
    "#Create a table that pulls together people that are not friends reviewing the same place\n",
    "all_reviews_dist = []\n",
    "\n",
    "#For each person with reviews\n",
    "for i,j in review_dictionary.items():\n",
    "    count = 0\n",
    "    for k in j:\n",
    "        if count != len(j):\n",
    "            for l in range(count+1, len(j)):\n",
    "                all_reviews_dist.append([abs(k[0]-j[l][0]),date_diff(k[1], j[l][1])]) \n",
    "            count +=1\n",
    "        "
   ]
  },
  {
   "cell_type": "code",
   "execution_count": 82,
   "metadata": {},
   "outputs": [
    {
     "name": "stdout",
     "output_type": "stream",
     "text": [
      "41884058\n"
     ]
    },
    {
     "data": {
      "text/plain": [
       "[0, 96]"
      ]
     },
     "execution_count": 82,
     "metadata": {},
     "output_type": "execute_result"
    }
   ],
   "source": [
    "print(len(all_reviews_dist))\n",
    "all_reviews_dist2[0]\n"
   ]
  },
  {
   "cell_type": "code",
   "execution_count": 85,
   "metadata": {},
   "outputs": [
    {
     "data": {
      "text/plain": [
       "(array([ 422734.,  397930.,  392724.,  388054.,  383176.,  380966.,\n",
       "         377024.,  404534.,  371536.,  367576.,  364017.,  360414.,\n",
       "         359241.,  356642.,  353654.,  379932.,  347560.,  344252.,\n",
       "         343565.,  339453.,  338778.,  336406.,  362807.,  335164.,\n",
       "         334097.,  333235.,  330221.,  330817.,  329798.,  358095.]),\n",
       " array([   0.        ,   12.13333333,   24.26666667,   36.4       ,\n",
       "          48.53333333,   60.66666667,   72.8       ,   84.93333333,\n",
       "          97.06666667,  109.2       ,  121.33333333,  133.46666667,\n",
       "         145.6       ,  157.73333333,  169.86666667,  182.        ,\n",
       "         194.13333333,  206.26666667,  218.4       ,  230.53333333,\n",
       "         242.66666667,  254.8       ,  266.93333333,  279.06666667,\n",
       "         291.2       ,  303.33333333,  315.46666667,  327.6       ,\n",
       "         339.73333333,  351.86666667,  364.        ]),\n",
       " <a list of 30 Patch objects>)"
      ]
     },
     "execution_count": 85,
     "metadata": {},
     "output_type": "execute_result"
    },
    {
     "data": {
      "image/png": "[encoded data removed]",
      "text/plain": [
       "<matplotlib.figure.Figure at 0x135e26ce160>"
      ]
     },
     "metadata": {},
     "output_type": "display_data"
    }
   ],
   "source": [
    "plt.pyplot.hist([i[1] for i in all_reviews_dist if i[1] < 365], bins = 30)"
   ]
  },
  {
   "cell_type": "markdown",
   "metadata": {},
   "source": [
    "The spike that appears within the friend group does not appear if you look at all reviews"
   ]
  },
  {
   "cell_type": "markdown",
   "metadata": {},
   "source": [
    "## Export Data"
   ]
  },
  {
   "cell_type": "code",
   "execution_count": 36,
   "metadata": {},
   "outputs": [],
   "source": [
    "diff_ratings.to_csv(\"output_data/friends_code.csv\")"
   ]
  }
 ],
 "metadata": {
  "kernelspec": {
   "display_name": "Python 3",
   "language": "python",
   "name": "python3"
  },
  "language_info": {
   "codemirror_mode": {
    "name": "ipython",
    "version": 3
   },
   "file_extension": ".py",
   "mimetype": "text/x-python",
   "name": "python",
   "nbconvert_exporter": "python",
   "pygments_lexer": "ipython3",
   "version": "3.6.3"
  }
 },
 "nbformat": 4,
 "nbformat_minor": 2
}
