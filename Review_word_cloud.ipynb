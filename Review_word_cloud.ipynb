{
 "cells": [
  {
   "cell_type": "markdown",
   "metadata": {},
   "source": [
    "# Review Word Cloud"
   ]
  },
  {
   "cell_type": "markdown",
   "metadata": {},
   "source": [
    "## Imports"
   ]
  },
  {
   "cell_type": "code",
   "execution_count": 1,
   "metadata": {},
   "outputs": [],
   "source": [
    "import pandas as pd\n",
    "import numpy as np\n",
    "import matplotlib as plt\n",
    "import seaborn as sns\n",
    "from collections import Counter\n",
    "from operator import itemgetter\n",
    "import spacy\n",
    "import re\n",
    "nlp = spacy.load('en')"
   ]
  },
  {
   "cell_type": "markdown",
   "metadata": {},
   "source": [
    "## Yelp Review Data"
   ]
  },
  {
   "cell_type": "markdown",
   "metadata": {},
   "source": [
    "### Data Wrangling"
   ]
  },
  {
   "cell_type": "code",
   "execution_count": 2,
   "metadata": {},
   "outputs": [],
   "source": [
    "#Load data\n",
    "reviews  = pd.read_csv(\"input_data/yelp_review.csv\")"
   ]
  },
  {
   "cell_type": "code",
   "execution_count": 3,
   "metadata": {},
   "outputs": [
    {
     "data": {
      "text/html": [
       "<div>\n",
       "<style scoped>\n",
       "    .dataframe tbody tr th:only-of-type {\n",
       "        vertical-align: middle;\n",
       "    }\n",
       "\n",
       "    .dataframe tbody tr th {\n",
       "        vertical-align: top;\n",
       "    }\n",
       "\n",
       "    .dataframe thead th {\n",
       "        text-align: right;\n",
       "    }\n",
       "</style>\n",
       "<table border=\"1\" class=\"dataframe\">\n",
       "  <thead>\n",
       "    <tr style=\"text-align: right;\">\n",
       "      <th></th>\n",
       "      <th>review_id</th>\n",
       "      <th>user_id</th>\n",
       "      <th>business_id</th>\n",
       "      <th>stars</th>\n",
       "      <th>date</th>\n",
       "      <th>text</th>\n",
       "      <th>useful</th>\n",
       "      <th>funny</th>\n",
       "      <th>cool</th>\n",
       "    </tr>\n",
       "  </thead>\n",
       "  <tbody>\n",
       "    <tr>\n",
       "      <th>0</th>\n",
       "      <td>vkVSCC7xljjrAI4UGfnKEQ</td>\n",
       "      <td>bv2nCi5Qv5vroFiqKGopiw</td>\n",
       "      <td>AEx2SYEUJmTxVVB18LlCwA</td>\n",
       "      <td>5</td>\n",
       "      <td>2016-05-28</td>\n",
       "      <td>Super simple place but amazing nonetheless. It...</td>\n",
       "      <td>0</td>\n",
       "      <td>0</td>\n",
       "      <td>0</td>\n",
       "    </tr>\n",
       "    <tr>\n",
       "      <th>1</th>\n",
       "      <td>n6QzIUObkYshz4dz2QRJTw</td>\n",
       "      <td>bv2nCi5Qv5vroFiqKGopiw</td>\n",
       "      <td>VR6GpWIda3SfvPC-lg9H3w</td>\n",
       "      <td>5</td>\n",
       "      <td>2016-05-28</td>\n",
       "      <td>Small unassuming place that changes their menu...</td>\n",
       "      <td>0</td>\n",
       "      <td>0</td>\n",
       "      <td>0</td>\n",
       "    </tr>\n",
       "    <tr>\n",
       "      <th>2</th>\n",
       "      <td>MV3CcKScW05u5LVfF6ok0g</td>\n",
       "      <td>bv2nCi5Qv5vroFiqKGopiw</td>\n",
       "      <td>CKC0-MOWMqoeWf6s-szl8g</td>\n",
       "      <td>5</td>\n",
       "      <td>2016-05-28</td>\n",
       "      <td>Lester's is located in a beautiful neighborhoo...</td>\n",
       "      <td>0</td>\n",
       "      <td>0</td>\n",
       "      <td>0</td>\n",
       "    </tr>\n",
       "    <tr>\n",
       "      <th>3</th>\n",
       "      <td>IXvOzsEMYtiJI0CARmj77Q</td>\n",
       "      <td>bv2nCi5Qv5vroFiqKGopiw</td>\n",
       "      <td>ACFtxLv8pGrrxMm6EgjreA</td>\n",
       "      <td>4</td>\n",
       "      <td>2016-05-28</td>\n",
       "      <td>Love coming here. Yes the place always needs t...</td>\n",
       "      <td>0</td>\n",
       "      <td>0</td>\n",
       "      <td>0</td>\n",
       "    </tr>\n",
       "    <tr>\n",
       "      <th>4</th>\n",
       "      <td>L_9BTb55X0GDtThi6GlZ6w</td>\n",
       "      <td>bv2nCi5Qv5vroFiqKGopiw</td>\n",
       "      <td>s2I_Ni76bjJNK9yG60iD-Q</td>\n",
       "      <td>4</td>\n",
       "      <td>2016-05-28</td>\n",
       "      <td>Had their chocolate almond croissant and it wa...</td>\n",
       "      <td>0</td>\n",
       "      <td>0</td>\n",
       "      <td>0</td>\n",
       "    </tr>\n",
       "  </tbody>\n",
       "</table>\n",
       "</div>"
      ],
      "text/plain": [
       "                review_id                 user_id             business_id  \\\n",
       "0  vkVSCC7xljjrAI4UGfnKEQ  bv2nCi5Qv5vroFiqKGopiw  AEx2SYEUJmTxVVB18LlCwA   \n",
       "1  n6QzIUObkYshz4dz2QRJTw  bv2nCi5Qv5vroFiqKGopiw  VR6GpWIda3SfvPC-lg9H3w   \n",
       "2  MV3CcKScW05u5LVfF6ok0g  bv2nCi5Qv5vroFiqKGopiw  CKC0-MOWMqoeWf6s-szl8g   \n",
       "3  IXvOzsEMYtiJI0CARmj77Q  bv2nCi5Qv5vroFiqKGopiw  ACFtxLv8pGrrxMm6EgjreA   \n",
       "4  L_9BTb55X0GDtThi6GlZ6w  bv2nCi5Qv5vroFiqKGopiw  s2I_Ni76bjJNK9yG60iD-Q   \n",
       "\n",
       "   stars        date                                               text  \\\n",
       "0      5  2016-05-28  Super simple place but amazing nonetheless. It...   \n",
       "1      5  2016-05-28  Small unassuming place that changes their menu...   \n",
       "2      5  2016-05-28  Lester's is located in a beautiful neighborhoo...   \n",
       "3      4  2016-05-28  Love coming here. Yes the place always needs t...   \n",
       "4      4  2016-05-28  Had their chocolate almond croissant and it wa...   \n",
       "\n",
       "   useful  funny  cool  \n",
       "0       0      0     0  \n",
       "1       0      0     0  \n",
       "2       0      0     0  \n",
       "3       0      0     0  \n",
       "4       0      0     0  "
      ]
     },
     "execution_count": 3,
     "metadata": {},
     "output_type": "execute_result"
    }
   ],
   "source": [
    "#Look at data head\n",
    "reviews.head()"
   ]
  },
  {
   "cell_type": "markdown",
   "metadata": {},
   "source": [
    "## Analysis"
   ]
  },
  {
   "cell_type": "code",
   "execution_count": 4,
   "metadata": {},
   "outputs": [],
   "source": [
    "#Load cleaned business data for restaurant flag\n",
    "res = pd.read_csv(\"output_data/res_data.csv\")"
   ]
  },
  {
   "cell_type": "code",
   "execution_count": 5,
   "metadata": {},
   "outputs": [],
   "source": [
    "#Merge review and business data for restaurant flag\n",
    "res_rev = pd.merge(reviews,\n",
    "                   res[['business_id','Restaurant']],\n",
    "                   left_on = 'business_id',\n",
    "                   right_on = 'business_id',\n",
    "                   how = 'inner')"
   ]
  },
  {
   "cell_type": "code",
   "execution_count": 6,
   "metadata": {},
   "outputs": [
    {
     "data": {
      "text/plain": [
       "1471844"
      ]
     },
     "execution_count": 6,
     "metadata": {},
     "output_type": "execute_result"
    }
   ],
   "source": [
    "#Look at instances of useful > 0\n",
    "len(res_rev.loc[res_rev['useful']>0, ['useful']])"
   ]
  },
  {
   "cell_type": "code",
   "execution_count": 7,
   "metadata": {},
   "outputs": [
    {
     "data": {
      "text/plain": [
       "687099"
      ]
     },
     "execution_count": 7,
     "metadata": {},
     "output_type": "execute_result"
    }
   ],
   "source": [
    "#Look at instances of funny > 0\n",
    "len(res_rev.loc[res_rev['funny']>0, ['funny']])"
   ]
  },
  {
   "cell_type": "code",
   "execution_count": 8,
   "metadata": {},
   "outputs": [
    {
     "data": {
      "text/plain": [
       "857957"
      ]
     },
     "execution_count": 8,
     "metadata": {},
     "output_type": "execute_result"
    }
   ],
   "source": [
    "#Look at instances of cool > 0\n",
    "len(res_rev.loc[res_rev['cool']>0, ['cool']])"
   ]
  },
  {
   "cell_type": "code",
   "execution_count": 9,
   "metadata": {},
   "outputs": [],
   "source": [
    "#Create a singly long text string for reviews that were useful but not cool or funny, (and other 2 combinations)\n",
    "useful_text = ' '.join(i+ \" \" for i in res_rev.loc[((res_rev['useful']>0) & (res_rev['funny']==0) & (res_rev['cool']==0)) ,'text'])\n",
    "funny_text = ' '.join(i+ \" \" for i in res_rev.loc[((res_rev['useful']==0) & (res_rev['funny']>0) & (res_rev['cool']==0)),'text'])\n",
    "cool_text = ' '.join(i+ \" \" for i in res_rev.loc[((res_rev['useful']==0) & (res_rev['funny']==0) & (res_rev['cool']>0)),'text'])\n"
   ]
  },
  {
   "cell_type": "code",
   "execution_count": 10,
   "metadata": {},
   "outputs": [],
   "source": [
    "#Take the first 1,000,000 characters as a subset for the analysis\n",
    "useful_text1 = useful_text[0:1000000]\n",
    "funny_text1 = funny_text[0:1000000]\n",
    "cool_text1 = cool_text[0:1000000]"
   ]
  },
  {
   "cell_type": "code",
   "execution_count": 11,
   "metadata": {},
   "outputs": [],
   "source": [
    "#Run spacy tokenizer on each of the strings\n",
    "parsed_text1 = nlp(useful_text1)\n",
    "parsed_text2 = nlp(funny_text1)\n",
    "parsed_text3 = nlp(cool_text1)"
   ]
  },
  {
   "cell_type": "code",
   "execution_count": 12,
   "metadata": {},
   "outputs": [
    {
     "name": "stdout",
     "output_type": "stream",
     "text": [
      "the : 1894\n",
      "be : 1603\n",
      "not : 1538\n",
      "good : 1507\n",
      "place : 1079\n",
      "food : 988\n",
      "order : 784\n",
      "like : 752\n",
      "come : 727\n",
      "meat : 639\n"
     ]
    }
   ],
   "source": [
    "#Create a counter dictionary for useful words\n",
    "\n",
    "histogram_with_some_filtering1 = Counter()\n",
    "for token in parsed_text1:\n",
    "    if re.match('[a-zA-Z]+$', token.lemma_) and not (token.is_stop or token.pos_ == 'PUNCT' or token.pos_ == 'SPACE'):\n",
    "        lemma = token.lemma_\n",
    "        histogram_with_some_filtering1[lemma] += 1\n",
    "\n",
    "sorted_lemma_count_pairs = sorted(histogram_with_some_filtering1.items(),\n",
    "                                  reverse=True,\n",
    "                                  key=itemgetter(1))\n",
    "for lemma, count in sorted_lemma_count_pairs[:10]:\n",
    "    print(lemma, \":\", count)"
   ]
  },
  {
   "cell_type": "code",
   "execution_count": 13,
   "metadata": {},
   "outputs": [
    {
     "name": "stdout",
     "output_type": "stream",
     "text": [
      "the : 1754\n",
      "not : 1689\n",
      "be : 1357\n",
      "good : 1208\n",
      "food : 1186\n",
      "place : 1021\n",
      "like : 791\n",
      "order : 761\n",
      "come : 710\n",
      "time : 639\n"
     ]
    }
   ],
   "source": [
    "#Create a counter dictionary for funny words\n",
    "\n",
    "histogram_with_some_filtering2 = Counter()\n",
    "for token in parsed_text2:\n",
    "    if re.match('[a-zA-Z]+$', token.lemma_) and not (token.is_stop or token.pos_ == 'PUNCT' or token.pos_ == 'SPACE'):\n",
    "        lemma = token.lemma_\n",
    "        histogram_with_some_filtering2[lemma] += 1\n",
    "\n",
    "sorted_lemma_count_pairs = sorted(histogram_with_some_filtering2.items(),\n",
    "                                  reverse=True,\n",
    "                                  key=itemgetter(1))\n",
    "for lemma, count in sorted_lemma_count_pairs[:10]:\n",
    "    print(lemma, \":\", count)"
   ]
  },
  {
   "cell_type": "code",
   "execution_count": 14,
   "metadata": {},
   "outputs": [
    {
     "name": "stdout",
     "output_type": "stream",
     "text": [
      "the : 1973\n",
      "good : 1639\n",
      "not : 1344\n",
      "be : 1333\n",
      "food : 1195\n",
      "place : 1170\n",
      "great : 794\n",
      "come : 738\n",
      "order : 724\n",
      "time : 689\n"
     ]
    }
   ],
   "source": [
    "#Create a counter dictionary for cool words\n",
    "\n",
    "histogram_with_some_filtering3 = Counter()\n",
    "for token in parsed_text3:\n",
    "    if re.match('[a-zA-Z]+$', token.lemma_) and not (token.is_stop or token.pos_ == 'PUNCT' or token.pos_ == 'SPACE'):\n",
    "        lemma = token.lemma_\n",
    "        histogram_with_some_filtering3[lemma] += 1\n",
    "\n",
    "sorted_lemma_count_pairs = sorted(histogram_with_some_filtering3.items(),\n",
    "                                  reverse=True,\n",
    "                                  key=itemgetter(1))\n",
    "for lemma, count in sorted_lemma_count_pairs[:10]:\n",
    "    print(lemma, \":\", count)"
   ]
  },
  {
   "cell_type": "code",
   "execution_count": 15,
   "metadata": {},
   "outputs": [],
   "source": [
    "#Get the set of all keys\n",
    "keys = set(list(histogram_with_some_filtering1.keys()) + list(histogram_with_some_filtering2.keys())+ list(histogram_with_some_filtering3.keys()))"
   ]
  },
  {
   "cell_type": "code",
   "execution_count": 16,
   "metadata": {},
   "outputs": [
    {
     "data": {
      "text/html": [
       "<div>\n",
       "<style scoped>\n",
       "    .dataframe tbody tr th:only-of-type {\n",
       "        vertical-align: middle;\n",
       "    }\n",
       "\n",
       "    .dataframe tbody tr th {\n",
       "        vertical-align: top;\n",
       "    }\n",
       "\n",
       "    .dataframe thead th {\n",
       "        text-align: right;\n",
       "    }\n",
       "</style>\n",
       "<table border=\"1\" class=\"dataframe\">\n",
       "  <thead>\n",
       "    <tr style=\"text-align: right;\">\n",
       "      <th></th>\n",
       "      <th>word</th>\n",
       "      <th>useful</th>\n",
       "      <th>funny</th>\n",
       "      <th>cool</th>\n",
       "      <th>total</th>\n",
       "      <th>useful_per</th>\n",
       "      <th>funny_per</th>\n",
       "      <th>cool_per</th>\n",
       "    </tr>\n",
       "  </thead>\n",
       "  <tbody>\n",
       "    <tr>\n",
       "      <th>0</th>\n",
       "      <td>loom</td>\n",
       "      <td>0.0</td>\n",
       "      <td>1.0</td>\n",
       "      <td>0.0</td>\n",
       "      <td>1.0</td>\n",
       "      <td>0.0</td>\n",
       "      <td>1.0</td>\n",
       "      <td>0.0</td>\n",
       "    </tr>\n",
       "    <tr>\n",
       "      <th>1</th>\n",
       "      <td>pression</td>\n",
       "      <td>1.0</td>\n",
       "      <td>1.0</td>\n",
       "      <td>0.0</td>\n",
       "      <td>2.0</td>\n",
       "      <td>0.5</td>\n",
       "      <td>0.5</td>\n",
       "      <td>0.0</td>\n",
       "    </tr>\n",
       "    <tr>\n",
       "      <th>2</th>\n",
       "      <td>throat</td>\n",
       "      <td>3.0</td>\n",
       "      <td>2.0</td>\n",
       "      <td>0.0</td>\n",
       "      <td>5.0</td>\n",
       "      <td>0.6</td>\n",
       "      <td>0.4</td>\n",
       "      <td>0.0</td>\n",
       "    </tr>\n",
       "    <tr>\n",
       "      <th>3</th>\n",
       "      <td>agradable</td>\n",
       "      <td>0.0</td>\n",
       "      <td>0.0</td>\n",
       "      <td>1.0</td>\n",
       "      <td>1.0</td>\n",
       "      <td>0.0</td>\n",
       "      <td>0.0</td>\n",
       "      <td>1.0</td>\n",
       "    </tr>\n",
       "    <tr>\n",
       "      <th>4</th>\n",
       "      <td>somehwere</td>\n",
       "      <td>1.0</td>\n",
       "      <td>0.0</td>\n",
       "      <td>0.0</td>\n",
       "      <td>1.0</td>\n",
       "      <td>1.0</td>\n",
       "      <td>0.0</td>\n",
       "      <td>0.0</td>\n",
       "    </tr>\n",
       "  </tbody>\n",
       "</table>\n",
       "</div>"
      ],
      "text/plain": [
       "        word  useful  funny  cool  total  useful_per  funny_per  cool_per\n",
       "0       loom     0.0    1.0   0.0    1.0         0.0        1.0       0.0\n",
       "1   pression     1.0    1.0   0.0    2.0         0.5        0.5       0.0\n",
       "2     throat     3.0    2.0   0.0    5.0         0.6        0.4       0.0\n",
       "3  agradable     0.0    0.0   1.0    1.0         0.0        0.0       1.0\n",
       "4  somehwere     1.0    0.0   0.0    1.0         1.0        0.0       0.0"
      ]
     },
     "execution_count": 16,
     "metadata": {},
     "output_type": "execute_result"
    }
   ],
   "source": [
    "#Created a dataframe of words with how many times they appear in useful, funny or cool rated reviews and their relative percentages\n",
    "word_counts = []\n",
    "for key in keys:\n",
    "    word_counts.append([key, histogram_with_some_filtering1.get(key),histogram_with_some_filtering2.get(key),histogram_with_some_filtering3.get(key)])  \n",
    "word_counts = pd.DataFrame(word_counts, columns = [\"word\",\"useful\", \"funny\", \"cool\"])\n",
    "word_counts.fillna(0, inplace = True)\n",
    "word_counts.head()\n",
    "word_counts[\"total\"] = word_counts[\"useful\"] + word_counts[\"funny\"] + word_counts[\"cool\"]\n",
    "word_counts[\"useful_per\"] = word_counts[\"useful\"] / word_counts[\"total\"]\n",
    "word_counts[\"funny_per\"] = word_counts[\"funny\"] / word_counts[\"total\"]\n",
    "word_counts[\"cool_per\"] = word_counts[\"cool\"] / word_counts[\"total\"]\n",
    "word_counts.head()"
   ]
  },
  {
   "cell_type": "code",
   "execution_count": 17,
   "metadata": {},
   "outputs": [
    {
     "data": {
      "text/html": [
       "<div>\n",
       "<style scoped>\n",
       "    .dataframe tbody tr th:only-of-type {\n",
       "        vertical-align: middle;\n",
       "    }\n",
       "\n",
       "    .dataframe tbody tr th {\n",
       "        vertical-align: top;\n",
       "    }\n",
       "\n",
       "    .dataframe thead th {\n",
       "        text-align: right;\n",
       "    }\n",
       "</style>\n",
       "<table border=\"1\" class=\"dataframe\">\n",
       "  <thead>\n",
       "    <tr style=\"text-align: right;\">\n",
       "      <th></th>\n",
       "      <th>word</th>\n",
       "      <th>useful</th>\n",
       "      <th>funny</th>\n",
       "      <th>cool</th>\n",
       "      <th>total</th>\n",
       "      <th>useful_per</th>\n",
       "      <th>funny_per</th>\n",
       "      <th>cool_per</th>\n",
       "    </tr>\n",
       "  </thead>\n",
       "  <tbody>\n",
       "    <tr>\n",
       "      <th>40</th>\n",
       "      <td>soap</td>\n",
       "      <td>2.0</td>\n",
       "      <td>10.0</td>\n",
       "      <td>1.0</td>\n",
       "      <td>13.0</td>\n",
       "      <td>0.153846</td>\n",
       "      <td>0.769231</td>\n",
       "      <td>0.076923</td>\n",
       "    </tr>\n",
       "    <tr>\n",
       "      <th>49</th>\n",
       "      <td>nasty</td>\n",
       "      <td>0.0</td>\n",
       "      <td>17.0</td>\n",
       "      <td>3.0</td>\n",
       "      <td>20.0</td>\n",
       "      <td>0.000000</td>\n",
       "      <td>0.850000</td>\n",
       "      <td>0.150000</td>\n",
       "    </tr>\n",
       "    <tr>\n",
       "      <th>205</th>\n",
       "      <td>limo</td>\n",
       "      <td>0.0</td>\n",
       "      <td>3.0</td>\n",
       "      <td>9.0</td>\n",
       "      <td>12.0</td>\n",
       "      <td>0.000000</td>\n",
       "      <td>0.250000</td>\n",
       "      <td>0.750000</td>\n",
       "    </tr>\n",
       "    <tr>\n",
       "      <th>227</th>\n",
       "      <td>filthy</td>\n",
       "      <td>1.0</td>\n",
       "      <td>11.0</td>\n",
       "      <td>2.0</td>\n",
       "      <td>14.0</td>\n",
       "      <td>0.071429</td>\n",
       "      <td>0.785714</td>\n",
       "      <td>0.142857</td>\n",
       "    </tr>\n",
       "    <tr>\n",
       "      <th>326</th>\n",
       "      <td>coat</td>\n",
       "      <td>14.0</td>\n",
       "      <td>1.0</td>\n",
       "      <td>2.0</td>\n",
       "      <td>17.0</td>\n",
       "      <td>0.823529</td>\n",
       "      <td>0.058824</td>\n",
       "      <td>0.117647</td>\n",
       "    </tr>\n",
       "  </tbody>\n",
       "</table>\n",
       "</div>"
      ],
      "text/plain": [
       "       word  useful  funny  cool  total  useful_per  funny_per  cool_per\n",
       "40     soap     2.0   10.0   1.0   13.0    0.153846   0.769231  0.076923\n",
       "49    nasty     0.0   17.0   3.0   20.0    0.000000   0.850000  0.150000\n",
       "205    limo     0.0    3.0   9.0   12.0    0.000000   0.250000  0.750000\n",
       "227  filthy     1.0   11.0   2.0   14.0    0.071429   0.785714  0.142857\n",
       "326    coat    14.0    1.0   2.0   17.0    0.823529   0.058824  0.117647"
      ]
     },
     "execution_count": 17,
     "metadata": {},
     "output_type": "execute_result"
    }
   ],
   "source": [
    "#To uniquely identify words in each category, take words that are appear over 10 times and have an occurence rating of >.7 in one category\n",
    "threshhold = .7\n",
    "unique = word_counts.loc[((word_counts[\"total\"]>10) & ((word_counts['useful_per'] > threshhold) | (word_counts['funny_per'] >threshhold) | (word_counts['cool_per'] >threshhold)))]\n",
    "unique.head()"
   ]
  },
  {
   "cell_type": "code",
   "execution_count": 18,
   "metadata": {},
   "outputs": [
    {
     "name": "stderr",
     "output_type": "stream",
     "text": [
      "C:\\Users\\dmcph\\Anaconda3\\lib\\site-packages\\ipykernel_launcher.py:2: SettingWithCopyWarning: \n",
      "A value is trying to be set on a copy of a slice from a DataFrame.\n",
      "Try using .loc[row_indexer,col_indexer] = value instead\n",
      "\n",
      "See the caveats in the documentation: http://pandas.pydata.org/pandas-docs/stable/indexing.html#indexing-view-versus-copy\n",
      "  \n"
     ]
    }
   ],
   "source": [
    "#Add which category had the highest percentage\n",
    "unique['Category'] = unique[['useful_per','funny_per','cool_per']].apply(lambda s : (\"Useful\" if s['useful_per']>threshhold else (\"Funny\" if s['funny_per']>threshhold else \"Cool\")) , axis = 1)"
   ]
  },
  {
   "cell_type": "code",
   "execution_count": 19,
   "metadata": {},
   "outputs": [
    {
     "name": "stderr",
     "output_type": "stream",
     "text": [
      "C:\\Users\\dmcph\\Anaconda3\\lib\\site-packages\\ipykernel_launcher.py:2: SettingWithCopyWarning: \n",
      "A value is trying to be set on a copy of a slice from a DataFrame.\n",
      "Try using .loc[row_indexer,col_indexer] = value instead\n",
      "\n",
      "See the caveats in the documentation: http://pandas.pydata.org/pandas-docs/stable/indexing.html#indexing-view-versus-copy\n",
      "  \n"
     ]
    },
    {
     "data": {
      "text/html": [
       "<div>\n",
       "<style scoped>\n",
       "    .dataframe tbody tr th:only-of-type {\n",
       "        vertical-align: middle;\n",
       "    }\n",
       "\n",
       "    .dataframe tbody tr th {\n",
       "        vertical-align: top;\n",
       "    }\n",
       "\n",
       "    .dataframe thead th {\n",
       "        text-align: right;\n",
       "    }\n",
       "</style>\n",
       "<table border=\"1\" class=\"dataframe\">\n",
       "  <thead>\n",
       "    <tr style=\"text-align: right;\">\n",
       "      <th></th>\n",
       "      <th>word</th>\n",
       "      <th>useful</th>\n",
       "      <th>funny</th>\n",
       "      <th>cool</th>\n",
       "      <th>total</th>\n",
       "      <th>useful_per</th>\n",
       "      <th>funny_per</th>\n",
       "      <th>cool_per</th>\n",
       "      <th>Category</th>\n",
       "      <th>Max Count</th>\n",
       "    </tr>\n",
       "  </thead>\n",
       "  <tbody>\n",
       "    <tr>\n",
       "      <th>40</th>\n",
       "      <td>soap</td>\n",
       "      <td>2.0</td>\n",
       "      <td>10.0</td>\n",
       "      <td>1.0</td>\n",
       "      <td>13.0</td>\n",
       "      <td>0.153846</td>\n",
       "      <td>0.769231</td>\n",
       "      <td>0.076923</td>\n",
       "      <td>Funny</td>\n",
       "      <td>10.0</td>\n",
       "    </tr>\n",
       "    <tr>\n",
       "      <th>49</th>\n",
       "      <td>nasty</td>\n",
       "      <td>0.0</td>\n",
       "      <td>17.0</td>\n",
       "      <td>3.0</td>\n",
       "      <td>20.0</td>\n",
       "      <td>0.000000</td>\n",
       "      <td>0.850000</td>\n",
       "      <td>0.150000</td>\n",
       "      <td>Funny</td>\n",
       "      <td>17.0</td>\n",
       "    </tr>\n",
       "    <tr>\n",
       "      <th>205</th>\n",
       "      <td>limo</td>\n",
       "      <td>0.0</td>\n",
       "      <td>3.0</td>\n",
       "      <td>9.0</td>\n",
       "      <td>12.0</td>\n",
       "      <td>0.000000</td>\n",
       "      <td>0.250000</td>\n",
       "      <td>0.750000</td>\n",
       "      <td>Cool</td>\n",
       "      <td>9.0</td>\n",
       "    </tr>\n",
       "    <tr>\n",
       "      <th>227</th>\n",
       "      <td>filthy</td>\n",
       "      <td>1.0</td>\n",
       "      <td>11.0</td>\n",
       "      <td>2.0</td>\n",
       "      <td>14.0</td>\n",
       "      <td>0.071429</td>\n",
       "      <td>0.785714</td>\n",
       "      <td>0.142857</td>\n",
       "      <td>Funny</td>\n",
       "      <td>11.0</td>\n",
       "    </tr>\n",
       "    <tr>\n",
       "      <th>326</th>\n",
       "      <td>coat</td>\n",
       "      <td>14.0</td>\n",
       "      <td>1.0</td>\n",
       "      <td>2.0</td>\n",
       "      <td>17.0</td>\n",
       "      <td>0.823529</td>\n",
       "      <td>0.058824</td>\n",
       "      <td>0.117647</td>\n",
       "      <td>Useful</td>\n",
       "      <td>14.0</td>\n",
       "    </tr>\n",
       "  </tbody>\n",
       "</table>\n",
       "</div>"
      ],
      "text/plain": [
       "       word  useful  funny  cool  total  useful_per  funny_per  cool_per  \\\n",
       "40     soap     2.0   10.0   1.0   13.0    0.153846   0.769231  0.076923   \n",
       "49    nasty     0.0   17.0   3.0   20.0    0.000000   0.850000  0.150000   \n",
       "205    limo     0.0    3.0   9.0   12.0    0.000000   0.250000  0.750000   \n",
       "227  filthy     1.0   11.0   2.0   14.0    0.071429   0.785714  0.142857   \n",
       "326    coat    14.0    1.0   2.0   17.0    0.823529   0.058824  0.117647   \n",
       "\n",
       "    Category  Max Count  \n",
       "40     Funny       10.0  \n",
       "49     Funny       17.0  \n",
       "205     Cool        9.0  \n",
       "227    Funny       11.0  \n",
       "326   Useful       14.0  "
      ]
     },
     "execution_count": 19,
     "metadata": {},
     "output_type": "execute_result"
    }
   ],
   "source": [
    "#Get the count which is the max \n",
    "unique['Max Count'] = unique[['useful','funny','cool']].apply(lambda r : max(r['useful'],r['funny'],r['cool']), axis = 1)\n",
    "unique.head()"
   ]
  },
  {
   "cell_type": "code",
   "execution_count": 20,
   "metadata": {},
   "outputs": [],
   "source": [
    "# Use occurences and category to make a data set that can be easily word clouded\n",
    "word_cloud = []\n",
    "counts = [int(i) for i in unique['Max Count'].values]\n",
    "category = unique['Category'].values\n",
    "word = unique['word'].values\n",
    "for i,j in enumerate(counts):\n",
    "    for k in range(j):\n",
    "        word_cloud.append([word[i],category[i]])"
   ]
  },
  {
   "cell_type": "code",
   "execution_count": 21,
   "metadata": {},
   "outputs": [
    {
     "data": {
      "text/html": [
       "<div>\n",
       "<style scoped>\n",
       "    .dataframe tbody tr th:only-of-type {\n",
       "        vertical-align: middle;\n",
       "    }\n",
       "\n",
       "    .dataframe tbody tr th {\n",
       "        vertical-align: top;\n",
       "    }\n",
       "\n",
       "    .dataframe thead th {\n",
       "        text-align: right;\n",
       "    }\n",
       "</style>\n",
       "<table border=\"1\" class=\"dataframe\">\n",
       "  <thead>\n",
       "    <tr style=\"text-align: right;\">\n",
       "      <th></th>\n",
       "      <th>word</th>\n",
       "      <th>category</th>\n",
       "    </tr>\n",
       "  </thead>\n",
       "  <tbody>\n",
       "    <tr>\n",
       "      <th>0</th>\n",
       "      <td>soap</td>\n",
       "      <td>Funny</td>\n",
       "    </tr>\n",
       "    <tr>\n",
       "      <th>1</th>\n",
       "      <td>soap</td>\n",
       "      <td>Funny</td>\n",
       "    </tr>\n",
       "    <tr>\n",
       "      <th>2</th>\n",
       "      <td>soap</td>\n",
       "      <td>Funny</td>\n",
       "    </tr>\n",
       "    <tr>\n",
       "      <th>3</th>\n",
       "      <td>soap</td>\n",
       "      <td>Funny</td>\n",
       "    </tr>\n",
       "    <tr>\n",
       "      <th>4</th>\n",
       "      <td>soap</td>\n",
       "      <td>Funny</td>\n",
       "    </tr>\n",
       "  </tbody>\n",
       "</table>\n",
       "</div>"
      ],
      "text/plain": [
       "   word category\n",
       "0  soap    Funny\n",
       "1  soap    Funny\n",
       "2  soap    Funny\n",
       "3  soap    Funny\n",
       "4  soap    Funny"
      ]
     },
     "execution_count": 21,
     "metadata": {},
     "output_type": "execute_result"
    }
   ],
   "source": [
    "word_cloud = pd.DataFrame(word_cloud, columns = [\"word\",\"category\"])\n",
    "word_cloud.head()"
   ]
  },
  {
   "cell_type": "code",
   "execution_count": 22,
   "metadata": {},
   "outputs": [
    {
     "data": {
      "text/plain": [
       "array([ \"I can't eat Banh Mi anywhere else. I am Vietnamese and I love the fusion meats along with daikon + carrot + cucumber baguettes. Additionally, kimchi fries are a must have! Who would have thought mixing kimchi and fries would be fantastic on the taste buds.\",\n",
       "       \"Thinking about this place makes me so sad. They only have locations in Toronto and I am all the way in London, removed from the delicious food the big city can offer me. I went two different times, got the five spice pork, crispy tofu and kimchi fries. Everything was just perfect. The kimchi fries has a giant chunk of pork on it and it's a bit much for me. That wasn't a complaint though, no one should ever complain about too much delicious food. I got the bao and the banh mi, both of which were perfect. I would get the bao just because it's smaller and I can try more flavors. You can't really go wrong though\",\n",
       "       \"The reviews don't lie, such a great Banh Mi, really affordable as well. Only docking it a star cause the place is so small there was nowhere to sit so I had to eat it outside. Get the Pork Belly one!\",\n",
       "       'Is banh mi the next TO food fad? If it can all be as good as BMB I hope so. The Kalbi beef banh mi is incredible, as are the kimchi fries and the previously reviewed squid taco. This place has been open for less than a year and seems to have quite the following, despite the construction outside its front door.',\n",
       "       'Same quality every single time, which is awesome and hard to come across. Tried them when they first open, awesome .. went this afternoon, just as awesome. personal favs would be the pulled pork bao, sweet potato fries, kalbi beef taco and banh mi and kim chi fries !'], dtype=object)"
      ]
     },
     "execution_count": 22,
     "metadata": {},
     "output_type": "execute_result"
    }
   ],
   "source": [
    "#Look at reviews that are cool with banh\n",
    "res_rev.loc[((res_rev['text'].str.match(\".*banh.*\",case = False)) & (res_rev['funny']==0) & (res_rev['useful']==0) & (res_rev['cool']>0) & (res_rev['Restaurant'] == 'Y')), 'text'].values[0:5] "
   ]
  },
  {
   "cell_type": "code",
   "execution_count": 23,
   "metadata": {},
   "outputs": [
    {
     "data": {
      "text/plain": [
       "array([ 'I loved this place! It was my favorite part of a whirl-wind Vegas trip :). The older musicians playing standards are phenomenal, and so fun. The food is old school Italian, which I very much enjoy. The front of the house staff is second to none. Plus, the whole place is like traveling back in time! My only reason for not giving it 5 stars is because of our waitress. We had a large party, and had warned her we would be splitting the tab... She said, \"no problem, I\\'ll print multiple receipts so everyone can circle what they had.\" So we do this, and she cops major attitude because we gave her 5 cards (NOTE: I know this is annoying for a server, but she said it was fine when asked about it). We proceeded to wait for a full 30 MINUTES for our checks to sign! The night had been perfect for me up to that point, and I\\'m sad it ended on a crappier note. None-the-less, you (review reader) should DEFINITELY go here! Especially if you like nostalgia; this place is very much for you ;).',\n",
       "       \"McDickulous. Can't even understand the lady on the microphone. Was very rude, cold French fries, no receipt because now I don't even have the proof that I ordered 2 pies when you only give me 2. \\nPlease McDonalds hire people with McTeeth. \\nMcThankYou.\\n\\nEdit: Also I got a burnt apple pie that I couldn't eat. Now I know this must be a prank. When does this episode of Punk'd come out.\",\n",
       "       'I decided to get my family some quick lunch and ice cream for my little brother and niece,  we waited over 5 minutes in the drive through with not a word being said to us before deciding to just go in, where again it took almost 5 minutes to be acknowledged while standing at the register, just for the ice cream I had ordered a strawberry cheesecake blizzard, a banana split blizzard, a medium dipped cone, and a kids cone. The two blizzards came out first, I had looked at the cheesecake blizzard and it looked more like a milk shake, my little brother saw the multiple advertised pictures of blizzards upside down, decided to turn his upside down, immediately upon doing so the entire thing poured out onto the table. I told him to go tell the girl at the front, and they will make him a new one, considering that they advertise, \"upside down or it\\'s free,\" the girl at the counter looked like she had no clue what was going on, she literally put her hands up and shook her head back and forth and said, \"I don\\'t know\" another lady came up (I\\'m assuming was a manager, she was black, older, very short hair cut, with thick drawn on eyebrows and bright yellow acrylic nails) and asked what the problem was, I explained how my little brothers blizzard fell all over the the table when he attempted to turn it over, she asked what kind it was and I told her, and she proceeded to tell me it was whoever had made its fault, and turned and walked away. I figured that they were going to make him a new one because why else would she just randomly leave in the middle of talking to me other than to fix the problem? After a few minutes I waited and asked if they were remaking it, I was told no and then asked if I could get my money back, which of course was another ordeal in itself. The girl at the front told me that she was just an employee and couldn\\'t help me, so I asked if someone was available that could. She said yes, and put two bags on the counter and said \"oh here\\'s your food by the way.\" Which I won\\'t even get into how wrong that came out. Finally the same woman I spoke to earlier came back out and looked at me and angrily said. \"so what are you doing here?\" Her attitude astounded me, the least you could do is seem like you cared in the least about guest service. Anyway eventually she refunds me the money I paid for the blizzard, and when she hands my the receipt I said thank you, which she then replied with a very bitchy, \"No.\" I get that it\\'s fast food and you can\\'t really expect great service, but honestly, how do you get into a management position when you treat people like they\\'re shit? Not once did anyone say I\\'m sorry, or that they\\'ll attempt to fix anything. I understand it\\'s stupid to turn your ice cream upside down, but don\\'t advertise upside down or it\\'s free and then refuse to remedy the problem when a young child turns his cup upside down. My family and I will never be returning to this or any DQ location.',\n",
       "       'NEVER AGAIN. Walked in with my boyfriend and didn\\'t even get a hello. We stood at the cash register waiting to order for about 10 mins. Note, there was NO ONE in front of us. Three customers in the lobby. One lady sitting with her child and 2 others waiting for food. They messed up the lady and child\\'s order. They took 30 mins to give the other people their to go order. One lady asked for a refund because she waited 30 mins to get ONE burger. They gave her the refund. The other lady is STILL waiting. No sure how long she was there. Finally the manager Manny took our order. He actually rolled his eyes at US for our choices that we put on our burger. I got my receipt, and looked at it and it turns out my order was wrong. I told him I didn\\'t order an egg on my burger (which cost $2.00 to add on btw) He didn\\'t offer a refund or anything, nor an apology. Finally, the other lady who was STILL waiting got her food gets her order. And guess what?! HER food was wrong too! They messed up 3 orders back to back, so I requested a refund. I ended up waiting for almost 30 mins as well. The manager then says I am waiting because my \"burger has an egg on it,\" which I already told him that was incorrect. The girl in the back named Brittany started laughing. I told her it\\'s not funny that you all have messed up 4 peoples food back to back and my total was $26.00. I actually have called Fatburger Corp. and spoke to the VP of Operations regarding this. I encouraged him to look at this yelp page to see how his store is doing.',\n",
       "       'no idea how the food tastes, cuz i paid and waited 30 min and got nothing. watching the cashiers\\\\/servers argue with the kitchen in back is like dinner and a show. after i was repeatedly told \"your order is next\" and watching other boxes get filled, i went to the cashier to ask for a refund. The 16 y.o. manager just re-printed a receipt for me, the receipt didnt show anything about money going back to the card. 14 days later....nothing on my statement. if you get screwed like me, dont leave until they comp you something.\\n\\nedit: it\\'s been a week since I emailed the manager\\\\/owner that left the comment below. shockingly - no response.'], dtype=object)"
      ]
     },
     "execution_count": 23,
     "metadata": {},
     "output_type": "execute_result"
    }
   ],
   "source": [
    "#Look at reviews that are funny with reveipt\n",
    "res_rev.loc[((res_rev['text'].str.match(\".*receipt.*\",case = False)) & (res_rev['funny']>0) & (res_rev['useful']==0) & (res_rev['cool']==0) & (res_rev['Restaurant'] == 'Y')), 'text'].values[0:5]"
   ]
  },
  {
   "cell_type": "code",
   "execution_count": 24,
   "metadata": {},
   "outputs": [
    {
     "data": {
      "text/plain": [
       "array([ \"This is my favourite izakaya in Toronto. The food and service are always excellent. The room is fun (you may end up making new friends) and boisterous. If you're not sure what to order, there's even a new tasting menu (and at $25 per person you really can't go wrong).\",\n",
       "       'I\\'ve never had truly amazing Izakaya, outside of Toyko, Japan, and San Francisco, California, until I stumbled upon Guu Izakaya! If I could open an Izakaya joint in the United States, it would be Guu Izakaya!\\n\\nI happened to stumble on this small restaurant after returning to the Shangri-La Hotel on an empty stomach. And to my surprise, all the workers were Japanese and very friendly! To top it off, I was fortunate to come on the last night where they were in some type of celebration at the restaurant, where all the workers were wearing Kimonos! \\n\\nAmbiance: You are instantly welcomed when you enter the building. There\\'s always great music and the interior setting feels as though you\\'re inside an authentic dojo.\\n\\nFood: Two words to describe the food, \"DA BOMB.\"  Each dish is well-presented, similar to that of tapas. My favorites: Beef Carpaccio,  Takoyaki, Sashimi, almond tofu, chicken leg and lastly, green tea cheesecake!\\n\\nService: Their service is phenomenal. They treat each customer as if they\\'ve been coming for YEARS and make you want to return for just that experience. \\n\\nA MUST GO IF YOU\\'RE IN TORONO...',\n",
       "       'Not my favourite Izakaya, Guu has a pretty eclectic selection of dishes and an... interesting ambiance which certainly make it a unique place to take someone who doesn\\'t live in Toronto.\\n\\nThat said, the same \"interesting\" ambiance is arguably what hurts it the most: if you just want a casual dinner or you even want to share a single word with your food fellows, don\\'t bother.',\n",
       "       \"I love izakaya and Kinka is always a good choice to grab food and drinks with some friends. I love the environment here, the servers are all so friendly. This is the main reason why I love coming. Their service is great. Everyone is super attentive and friendly. No matter how busy they are, they always have a big smile on. \\n\\nIn terms of food, I have always loved their offerings. My favorite is probably the baked oysters and the deep fried brie cheese. I think Kinka is a solid spot whenever you want to have dinner, or want to go for drinks and some snacks. However, it is extremely loud for dates. I don't recommend coming for dates as this restaurant isn't very big, and it can be quite loud whenever they greet customers who are entering.\",\n",
       "       \"One of the better if not best izakaya places in Toronto. However because of the small portions, things can get expensive quickly. Come as a group so you can try more things, the menu is definitely worth exploring. Be sure to get the udon, fried rice and black sesame spinach. Best things I've had on the menu so far. \\nStaff is super enthusiastic and take izakaya experience to another level.\\n\\nMake reservations!\"], dtype=object)"
      ]
     },
     "execution_count": 24,
     "metadata": {},
     "output_type": "execute_result"
    }
   ],
   "source": [
    "#Look at reviews that are useful with izakaya\n",
    "res_rev.loc[((res_rev['text'].str.match(\".*izakaya.*\",case = False)) & (res_rev['funny']==0) & (res_rev['useful']>0) & (res_rev['cool']==0) & (res_rev['Restaurant'] == 'Y')), 'text'].values[0:5] "
   ]
  },
  {
   "cell_type": "markdown",
   "metadata": {},
   "source": [
    "<img src=\"Visualization/Cool Cloud.png\">"
   ]
  },
  {
   "cell_type": "markdown",
   "metadata": {},
   "source": [
    "## Ouput Data"
   ]
  },
  {
   "cell_type": "code",
   "execution_count": 25,
   "metadata": {},
   "outputs": [],
   "source": [
    "unique.to_csv(\"output_data/useful_cool_funny.csv\")"
   ]
  },
  {
   "cell_type": "code",
   "execution_count": 26,
   "metadata": {},
   "outputs": [],
   "source": [
    "word_cloud.to_csv(\"output_data/word_cloud.csv\")"
   ]
  }
 ],
 "metadata": {
  "kernelspec": {
   "display_name": "Python 3",
   "language": "python",
   "name": "python3"
  },
  "language_info": {
   "codemirror_mode": {
    "name": "ipython",
    "version": 3
   },
   "file_extension": ".py",
   "mimetype": "text/x-python",
   "name": "python",
   "nbconvert_exporter": "python",
   "pygments_lexer": "ipython3",
   "version": "3.6.3"
  }
 },
 "nbformat": 4,
 "nbformat_minor": 2
}
